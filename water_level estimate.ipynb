{
 "cells": [
  {
   "cell_type": "markdown",
   "metadata": {},
   "source": [
    "\n"
   ]
  },
  {
   "cell_type": "code",
   "execution_count": 3,
   "metadata": {},
   "outputs": [
    {
     "name": "stdout",
     "output_type": "stream",
     "text": [
      "         time  tavg  tmin  tmax  prcp  snow  wdir  wspd  wpgt  pres  tsun\n",
      "0  2011-07-02  27.2  24.1  35.9   NaN   NaN   NaN   NaN   NaN   NaN   NaN\n",
      "1  2011-07-03  25.7  22.5  34.7   NaN   NaN   NaN   NaN   NaN   NaN   NaN\n",
      "2  2011-07-04  26.2  20.7  34.7   NaN   NaN   NaN   NaN   NaN   NaN   NaN\n",
      "3  2011-07-05  26.2  21.5   NaN   0.8   NaN   NaN   NaN   NaN   NaN   NaN\n",
      "4  2011-07-06  23.9   NaN  27.0  65.0   NaN   NaN   NaN   NaN   NaN   NaN\n",
      "Average Temperature: 27.304214963119243 °C\n",
      "Maximum Wind Speed: 31.7 m/s\n"
     ]
    }
   ],
   "source": [
    "import pandas as pd\n",
    "\n",
    "# Replace with your CSV file path\n",
    "csv_file = 'hyderabad_weather_data_past_5_years.csv'\n",
    "\n",
    "# Read the CSV file into a pandas DataFrame\n",
    "df = pd.read_csv(csv_file)\n",
    "\n",
    "# Display the first few rows of the DataFrame\n",
    "print(df.head())\n",
    "\n",
    "# Access specific columns\n",
    "temperatures = df['tavg']\n",
    "wind_speeds = df['wspd']\n",
    "\n",
    "# Perform calculations or analysis on the data\n",
    "average_temperature = temperatures.mean()\n",
    "max_wind_speed = wind_speeds.max()\n",
    "\n",
    "# Print the results\n",
    "print(f\"Average Temperature: {average_temperature} °C\")\n",
    "print(f\"Maximum Wind Speed: {max_wind_speed} m/s\")\n"
   ]
  },
  {
   "cell_type": "code",
   "execution_count": 2,
   "metadata": {},
   "outputs": [
    {
     "name": "stdout",
     "output_type": "stream",
     "text": [
      "<class 'pandas.core.frame.DataFrame'>\n",
      "RangeIndex: 1825 entries, 0 to 1824\n",
      "Data columns (total 11 columns):\n",
      " #   Column  Non-Null Count  Dtype  \n",
      "---  ------  --------------  -----  \n",
      " 0   time    1825 non-null   object \n",
      " 1   tavg    1825 non-null   float64\n",
      " 2   tmin    1818 non-null   float64\n",
      " 3   tmax    1799 non-null   float64\n",
      " 4   prcp    1491 non-null   float64\n",
      " 5   snow    0 non-null      float64\n",
      " 6   wdir    1649 non-null   float64\n",
      " 7   wspd    1769 non-null   float64\n",
      " 8   wpgt    0 non-null      float64\n",
      " 9   pres    1589 non-null   float64\n",
      " 10  tsun    0 non-null      float64\n",
      "dtypes: float64(10), object(1)\n",
      "memory usage: 157.0+ KB\n"
     ]
    }
   ],
   "source": [
    "df.info()"
   ]
  },
  {
   "cell_type": "code",
   "execution_count": 4,
   "metadata": {},
   "outputs": [
    {
     "name": "stdout",
     "output_type": "stream",
     "text": [
      "         time  tavg  tmin  tmax  prcp  snow   wdir  wspd  wpgt    pres  tsun\n",
      "0  2021-01-02  21.8  16.8  27.9   0.0   NaN  177.0   5.8   NaN  1014.6   NaN\n",
      "1  2021-01-03  21.6  15.7  28.0   0.0   NaN  173.0   6.8   NaN  1013.2   NaN\n",
      "2  2021-01-04  21.8  16.4  28.2   0.0   NaN  164.0   9.1   NaN  1013.2   NaN\n",
      "3  2021-01-05  23.0  16.2  30.2   0.0   NaN  164.0   7.1   NaN  1013.7   NaN\n",
      "4  2021-01-06  23.6  21.2  28.0   0.1   NaN  174.0   5.6   NaN  1012.9   NaN\n",
      "Average Temperature: 26.88157480314966 °C\n",
      "Maximum Wind Speed: 24.6 m/s\n"
     ]
    }
   ],
   "source": [
    "import pandas as pd\n",
    "\n",
    "# Replace with your Warangal CSV file path\n",
    "csv_file = 'warangal_weather_data_past_13_years.csv'\n",
    "\n",
    "# Read the CSV file into a pandas DataFrame\n",
    "df1 = pd.read_csv(csv_file)\n",
    "\n",
    "# Display the first few rows of the DataFrame\n",
    "print(df1.head())\n",
    "\n",
    "# Access specific columns (assuming the columns are named 'tavg' for average temperature and 'wspd' for wind speed)\n",
    "if 'tavg' in df1.columns and 'wspd' in df1.columns:\n",
    "    temperatures = df1['tavg']\n",
    "    wind_speeds = df1['wspd']\n",
    "\n",
    "    # Perform calculations or analysis on the data\n",
    "    average_temperature = temperatures.mean()\n",
    "    max_wind_speed = wind_speeds.max()\n",
    "\n",
    "    # Print the results\n",
    "    print(f\"Average Temperature: {average_temperature} °C\")\n",
    "    print(f\"Maximum Wind Speed: {max_wind_speed} m/s\")\n",
    "else:\n",
    "    print(\"The necessary columns ('tavg' and 'wspd') are not found in the CSV file.\")\n"
   ]
  },
  {
   "cell_type": "code",
   "execution_count": null,
   "metadata": {},
   "outputs": [],
   "source": []
  },
  {
   "cell_type": "markdown",
   "metadata": {},
   "source": [
    "This later"
   ]
  },
  {
   "cell_type": "code",
   "execution_count": null,
   "metadata": {},
   "outputs": [],
   "source": [
    "import pandas as pd\n",
    "from sklearn.model_selection import train_test_split\n",
    "from sklearn.linear_model import LinearRegression\n",
    "from sklearn.metrics import mean_squared_error\n",
    "\n",
    "# Assuming df is your DataFrame with the weather data\n",
    "# Assuming you have groundwater levels data as 'groundwater_levels'\n",
    "\n",
    "# Drop columns not needed for prediction (like 'snow', 'wpgt', 'tsun' if not useful)\n",
    "df = df.drop(['snow', 'wpgt', 'tsun'], axis=1)\n",
    "\n",
    "# Handle missing values\n",
    "df = df.fillna(df.mean())  # Fill missing values with mean\n",
    "\n",
    "# Split data into features (X) and target (y)\n",
    "X = df[['tavg', 'tmin', 'tmax', 'prcp', 'wspd', 'pres']]\n",
    "y = groundwater_levels  # Assuming you have this data\n",
    "\n",
    "# Split data into training and testing sets\n",
    "X_train, X_test, y_train, y_test = train_test_split(X, y, test_size=0.2, random_state=42)\n",
    "\n",
    "# Train a linear regression model\n",
    "model = LinearRegression()\n",
    "model.fit(X_train, y_train)\n",
    "\n",
    "# Predict groundwater levels\n",
    "y_pred = model.predict(X_test)\n",
    "\n",
    "# Evaluate model\n",
    "mse = mean_squared_error(y_test, y_pred)\n",
    "print(f'Mean Squared Error: {mse}')\n",
    "\n",
    "# Example prediction for future weather data\n",
    "new_data = pd.DataFrame({\n",
    "    'tavg': [25.0],  # Example values, replace with actual future weather data\n",
    "    'tmin': [20.0],\n",
    "    'tmax': [30.0],\n",
    "    'prcp': [10.0],\n",
    "    'wspd': [15.0],\n",
    "    'pres': [1010.0]\n",
    "})\n",
    "prediction = model.predict(new_data)\n",
    "print(f'Predicted groundwater level: {prediction[0]}')\n"
   ]
  }
 ],
 "metadata": {
  "kernelspec": {
   "display_name": "base",
   "language": "python",
   "name": "python3"
  },
  "language_info": {
   "codemirror_mode": {
    "name": "ipython",
    "version": 3
   },
   "file_extension": ".py",
   "mimetype": "text/x-python",
   "name": "python",
   "nbconvert_exporter": "python",
   "pygments_lexer": "ipython3",
   "version": "2021.11.undefined"
  }
 },
 "nbformat": 4,
 "nbformat_minor": 2
}
