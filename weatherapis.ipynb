{
 "cells": [
  {
   "cell_type": "markdown",
   "metadata": {},
   "source": [
    "open weather"
   ]
  },
  {
   "cell_type": "code",
   "execution_count": null,
   "metadata": {},
   "outputs": [],
   "source": [
    "import requests\n",
    "import json\n",
    "\n",
    "api_key = 'a3199dd21ba69ce647ed2ccad3c13b54'  # Replace with your actual API key\n",
    "base_url = 'http://api.openweathermap.org/data/2.5/weather?'\n",
    "\n",
    "# Define the location for which you want to get the weather data\n",
    "location = 'Hyderabad'  # More specific city name within Telangana\n",
    "\n",
    "# Complete the URL\n",
    "complete_url = f\"{base_url}q={location}&appid={api_key}&units=metric\"  # Adding &units=metric to get temperature in Celsius\n",
    "\n",
    "response = requests.get(complete_url)\n",
    "\n",
    "# Check if the request was successful\n",
    "if response.status_code == 200:\n",
    "    # Parse the JSON data\n",
    "    data = response.json()\n",
    "    \n",
    "    # Extract the main dictionary which contains weather data\n",
    "    main = data['main']\n",
    "    wind = data['wind']\n",
    "    weather = data['weather'][0]\n",
    "    clouds = data['clouds']\n",
    "    sys = data['sys']\n",
    "    \n",
    "    # Extracting required data attributes\n",
    "    temperature = main['temp']\n",
    "    feels_like = main['feels_like']\n",
    "    pressure = main['pressure']\n",
    "    humidity = main['humidity']\n",
    "    min_temperature = main['temp_min']\n",
    "    max_temperature = main['temp_max']\n",
    "    \n",
    "    wind_speed = wind['speed']\n",
    "    wind_deg = wind['deg']\n",
    "    if 'gust' in wind:\n",
    "        wind_gust = wind['gust']\n",
    "    else:\n",
    "        wind_gust = \"N/A\"\n",
    "    \n",
    "    weather_description = weather['description']\n",
    "    visibility = data.get('visibility', 'N/A')\n",
    "    cloudiness = clouds['all']\n",
    "    sunrise = sys['sunrise']\n",
    "    sunset = sys['sunset']\n",
    "\n",
    "    # Printing the data\n",
    "    print(f\"Temperature: {temperature}°C\")\n",
    "    print(f\"Feels Like: {feels_like}°C\")\n",
    "    print(f\"Pressure: {pressure} hPa\")\n",
    "    print(f\"Humidity: {humidity}%\")\n",
    "    print(f\"Min Temperature: {min_temperature}°C\")\n",
    "    print(f\"Max Temperature: {max_temperature}°C\")\n",
    "    print(f\"Wind Speed: {wind_speed} m/s\")\n",
    "    print(f\"Wind Direction: {wind_deg}°\")\n",
    "    print(f\"Wind Gust: {wind_gust} m/s\")\n",
    "    print(f\"Weather Description: {weather_description}\")\n",
    "    print(f\"Visibility: {visibility} meters\")\n",
    "    print(f\"Cloudiness: {cloudiness}%\")\n",
    "    print(f\"Sunrise: {sunrise} (Unix time)\")\n",
    "    print(f\"Sunset: {sunset} (Unix time)\")\n",
    "else:\n",
    "    # Enhanced error handling\n",
    "    try:\n",
    "        error_data = response.json()\n",
    "        print(f\"Error {response.status_code}: {error_data.get('message', 'Unable to fetch data')}\")\n",
    "    except json.JSONDecodeError:\n",
    "        print(f\"Error {response.status_code}: Unable to fetch data\")\n"
   ]
  },
  {
   "cell_type": "markdown",
   "metadata": {},
   "source": [
    "meteostat for time series"
   ]
  },
  {
   "cell_type": "code",
   "execution_count": null,
   "metadata": {},
   "outputs": [],
   "source": []
  }
 ],
 "metadata": {
  "language_info": {
   "name": "python"
  }
 },
 "nbformat": 4,
 "nbformat_minor": 2
}
